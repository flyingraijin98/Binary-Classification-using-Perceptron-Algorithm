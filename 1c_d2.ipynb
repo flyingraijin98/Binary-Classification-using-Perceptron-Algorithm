{
  "nbformat": 4,
  "nbformat_minor": 0,
  "metadata": {
    "colab": {
      "name": "1c_d2",
      "provenance": []
    },
    "kernelspec": {
      "name": "python3",
      "display_name": "Python 3"
    }
  },
  "cells": [
    {
      "cell_type": "code",
      "metadata": {
        "id": "I-OvGM4wqZeI"
      },
      "source": [
        "#importing libraries\r\n",
        "import numpy as np\r\n",
        "import pandas as pd\r\n",
        "import matplotlib.pyplot as plt"
      ],
      "execution_count": null,
      "outputs": []
    },
    {
      "cell_type": "code",
      "metadata": {
        "colab": {
          "base_uri": "https://localhost:8080/",
          "height": 195
        },
        "id": "ErsUU56Fqxm7",
        "outputId": "c07788dd-75da-4b13-ee13-a7011897de5e"
      },
      "source": [
        "df=pd.read_csv('/content/drive/MyDrive/CSf320/dataset_LP_2.csv',header=None) #importing data\r\n",
        "\r\n",
        "df[[0,1,2]]=(df[[0,1,2]]-df[[0,1,2]].mean(axis=0))/df[[0,1,2]].std(axis=0) #normalization\r\n",
        "df.head()"
      ],
      "execution_count": null,
      "outputs": [
        {
          "output_type": "execute_result",
          "data": {
            "text/html": [
              "<div>\n",
              "<style scoped>\n",
              "    .dataframe tbody tr th:only-of-type {\n",
              "        vertical-align: middle;\n",
              "    }\n",
              "\n",
              "    .dataframe tbody tr th {\n",
              "        vertical-align: top;\n",
              "    }\n",
              "\n",
              "    .dataframe thead th {\n",
              "        text-align: right;\n",
              "    }\n",
              "</style>\n",
              "<table border=\"1\" class=\"dataframe\">\n",
              "  <thead>\n",
              "    <tr style=\"text-align: right;\">\n",
              "      <th></th>\n",
              "      <th>0</th>\n",
              "      <th>1</th>\n",
              "      <th>2</th>\n",
              "      <th>3</th>\n",
              "    </tr>\n",
              "  </thead>\n",
              "  <tbody>\n",
              "    <tr>\n",
              "      <th>0</th>\n",
              "      <td>-2.269051</td>\n",
              "      <td>-1.265677</td>\n",
              "      <td>-1.030269</td>\n",
              "      <td>0</td>\n",
              "    </tr>\n",
              "    <tr>\n",
              "      <th>1</th>\n",
              "      <td>0.502236</td>\n",
              "      <td>0.564938</td>\n",
              "      <td>-0.926208</td>\n",
              "      <td>0</td>\n",
              "    </tr>\n",
              "    <tr>\n",
              "      <th>2</th>\n",
              "      <td>-1.394855</td>\n",
              "      <td>0.283598</td>\n",
              "      <td>0.515360</td>\n",
              "      <td>1</td>\n",
              "    </tr>\n",
              "    <tr>\n",
              "      <th>3</th>\n",
              "      <td>0.209415</td>\n",
              "      <td>-0.289732</td>\n",
              "      <td>0.522161</td>\n",
              "      <td>1</td>\n",
              "    </tr>\n",
              "    <tr>\n",
              "      <th>4</th>\n",
              "      <td>1.214203</td>\n",
              "      <td>-0.329351</td>\n",
              "      <td>0.429910</td>\n",
              "      <td>1</td>\n",
              "    </tr>\n",
              "  </tbody>\n",
              "</table>\n",
              "</div>"
            ],
            "text/plain": [
              "          0         1         2  3\n",
              "0 -2.269051 -1.265677 -1.030269  0\n",
              "1  0.502236  0.564938 -0.926208  0\n",
              "2 -1.394855  0.283598  0.515360  1\n",
              "3  0.209415 -0.289732  0.522161  1\n",
              "4  1.214203 -0.329351  0.429910  1"
            ]
          },
          "metadata": {
            "tags": []
          },
          "execution_count": 3
        }
      ]
    },
    {
      "cell_type": "code",
      "metadata": {
        "id": "R2XqMvF4q5xr"
      },
      "source": [
        "#Splitting\r\n",
        "train,test = np.split(df.sample(frac=1, random_state=1000),[int(0.7 * len(df))])"
      ],
      "execution_count": null,
      "outputs": []
    },
    {
      "cell_type": "code",
      "metadata": {
        "id": "Giom2FZ7rFUc"
      },
      "source": [
        "#converting df to array\r\n",
        "train=np.array(train)\r\n",
        "test=np.array(test)"
      ],
      "execution_count": null,
      "outputs": []
    },
    {
      "cell_type": "code",
      "metadata": {
        "id": "l4gOHUsTrDgF"
      },
      "source": [
        "train_X=train[:,:3]\r\n",
        "train_y=train[:,3]\r\n",
        "test_X=test[:,:3]\r\n",
        "test_y=test[:,3]"
      ],
      "execution_count": null,
      "outputs": []
    },
    {
      "cell_type": "code",
      "metadata": {
        "id": "7v5teAzXrNIl"
      },
      "source": [
        "np.random.seed(0)\r\n",
        "\r\n",
        "#initialising w \r\n",
        "w=np.random.randn(train_X.shape[1])  "
      ],
      "execution_count": null,
      "outputs": []
    },
    {
      "cell_type": "code",
      "metadata": {
        "id": "azEDrk-rrPpm"
      },
      "source": [
        "n_iters=3000 # number of iterations\r\n",
        "lr=0.01 # learning rate"
      ],
      "execution_count": null,
      "outputs": []
    },
    {
      "cell_type": "code",
      "metadata": {
        "id": "OK-7-BUFrRN_"
      },
      "source": [
        "#function to determine w and b\r\n",
        "def perceptron(train_X,train_y,w,lr):\r\n",
        "  error=[]\r\n",
        "  m=train_X.shape[0] #number of training instances\r\n",
        "  n=train_X.shape[1] # number of features in data set\r\n",
        "  for i in range(n_iters):\r\n",
        "    e=0\r\n",
        "    for j in range(m):\r\n",
        "      layer=np.dot(train_X[j,:],w)\r\n",
        "      output=layer\r\n",
        "      output=np.where(output>=0.5,1,0)\r\n",
        "      e+=(output-train_y[j])**2\r\n",
        "      if((output-train_y[j])==0): #Hebbian Learning Rule\r\n",
        "        continue\r\n",
        "      else:\r\n",
        "        for k in range(n):\r\n",
        "          w[k]+=lr*train_y[j]*train_X[j][k] #weight updation\r\n",
        "        #b=b+lr*train_y[j] #bias updation\r\n",
        "    error.append(e)\r\n",
        "  return w,error"
      ],
      "execution_count": null,
      "outputs": []
    },
    {
      "cell_type": "code",
      "metadata": {
        "colab": {
          "base_uri": "https://localhost:8080/"
        },
        "id": "yIGvS0A2rVKw",
        "outputId": "eab76dfa-7a15-47b0-b6d7-b8e9e662da55"
      },
      "source": [
        "w,error=perceptron(train_X,train_y,w,lr) #to call perceptron function\r\n",
        "print(\"Weights are\",w)"
      ],
      "execution_count": null,
      "outputs": [
        {
          "output_type": "stream",
          "text": [
            "Weights are [-0.100044    0.14244173  3.71278933]\n"
          ],
          "name": "stdout"
        }
      ]
    },
    {
      "cell_type": "code",
      "metadata": {
        "id": "44qTGFGorW4E"
      },
      "source": [
        "#evaluation for training and validation set\r\n",
        "def evaluate(X,w):\r\n",
        "  layer=np.dot(X,w)\r\n",
        "  input=layer \r\n",
        "  output = np.where(input>=0.5,1,0)\r\n",
        "\r\n",
        "  return output"
      ],
      "execution_count": null,
      "outputs": []
    },
    {
      "cell_type": "code",
      "metadata": {
        "id": "avO-PsQ_rfOr"
      },
      "source": [
        "test_pred=evaluate(test_X,w)\r\n",
        "test_pred=np.where(test_pred>=0.5,1,0)"
      ],
      "execution_count": null,
      "outputs": []
    },
    {
      "cell_type": "code",
      "metadata": {
        "colab": {
          "base_uri": "https://localhost:8080/"
        },
        "id": "ssxfR8ABrhD0",
        "outputId": "be44d7df-6acd-4558-d40b-97820846039b"
      },
      "source": [
        "cm=pd.crosstab(test_y,test_pred)\r\n",
        "tp=cm[0][0]\r\n",
        "fp=cm[0][1]\r\n",
        "fn=cm[1][0]\r\n",
        "tn=cm[1][1]\r\n",
        "print('Confusion matrix for test set is\\n',cm)"
      ],
      "execution_count": null,
      "outputs": [
        {
          "output_type": "stream",
          "text": [
            "Confusion matrix for test set is\n",
            " col_0    0    1\n",
            "row_0          \n",
            "0.0    145    0\n",
            "1.0      1  154\n"
          ],
          "name": "stdout"
        }
      ]
    },
    {
      "cell_type": "code",
      "metadata": {
        "colab": {
          "base_uri": "https://localhost:8080/"
        },
        "id": "-oyGky3rrjQn",
        "outputId": "3964c871-e262-4583-ae45-65347c6528b6"
      },
      "source": [
        "print('Accuracy is',(tp+tn)*100/len(test_y))"
      ],
      "execution_count": null,
      "outputs": [
        {
          "output_type": "stream",
          "text": [
            "Accuracy is 99.66666666666667\n"
          ],
          "name": "stdout"
        }
      ]
    },
    {
      "cell_type": "code",
      "metadata": {
        "id": "Y2zUDTIerleV"
      },
      "source": [
        ""
      ],
      "execution_count": null,
      "outputs": []
    }
  ]
}