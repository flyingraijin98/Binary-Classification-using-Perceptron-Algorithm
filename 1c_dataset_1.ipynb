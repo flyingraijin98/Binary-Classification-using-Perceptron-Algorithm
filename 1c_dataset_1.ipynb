{
  "nbformat": 4,
  "nbformat_minor": 0,
  "metadata": {
    "colab": {
      "name": "1c_dataset_1",
      "provenance": []
    },
    "kernelspec": {
      "name": "python3",
      "display_name": "Python 3"
    }
  },
  "cells": [
    {
      "cell_type": "code",
      "metadata": {
        "id": "mxfVERQaB5kY"
      },
      "source": [
        "#importing libraries\r\n",
        "import numpy as np\r\n",
        "import pandas as pd\r\n",
        "import matplotlib.pyplot as plt"
      ],
      "execution_count": null,
      "outputs": []
    },
    {
      "cell_type": "code",
      "metadata": {
        "colab": {
          "base_uri": "https://localhost:8080/",
          "height": 195
        },
        "id": "UAf3F53bCUfB",
        "outputId": "756592e5-60f9-48ed-b75b-fa7118d5ce86"
      },
      "source": [
        "df=pd.read_csv('/content/drive/MyDrive/CSf320/dataset_LP_1.csv',header=None) #importing data\r\n",
        "\r\n",
        "df[[0,1,2,3]]=(df[[0,1,2,3]]-df[[0,1,2,3]].mean(axis=0))/df[[0,1,2,3]].std(axis=0) #normalization\r\n",
        "df.head()"
      ],
      "execution_count": null,
      "outputs": [
        {
          "output_type": "execute_result",
          "data": {
            "text/html": [
              "<div>\n",
              "<style scoped>\n",
              "    .dataframe tbody tr th:only-of-type {\n",
              "        vertical-align: middle;\n",
              "    }\n",
              "\n",
              "    .dataframe tbody tr th {\n",
              "        vertical-align: top;\n",
              "    }\n",
              "\n",
              "    .dataframe thead th {\n",
              "        text-align: right;\n",
              "    }\n",
              "</style>\n",
              "<table border=\"1\" class=\"dataframe\">\n",
              "  <thead>\n",
              "    <tr style=\"text-align: right;\">\n",
              "      <th></th>\n",
              "      <th>0</th>\n",
              "      <th>1</th>\n",
              "      <th>2</th>\n",
              "      <th>3</th>\n",
              "      <th>4</th>\n",
              "    </tr>\n",
              "  </thead>\n",
              "  <tbody>\n",
              "    <tr>\n",
              "      <th>0</th>\n",
              "      <td>1.121397</td>\n",
              "      <td>1.149036</td>\n",
              "      <td>-0.975614</td>\n",
              "      <td>0.354432</td>\n",
              "      <td>0</td>\n",
              "    </tr>\n",
              "    <tr>\n",
              "      <th>1</th>\n",
              "      <td>1.446538</td>\n",
              "      <td>1.064065</td>\n",
              "      <td>-0.894710</td>\n",
              "      <td>-0.128721</td>\n",
              "      <td>0</td>\n",
              "    </tr>\n",
              "    <tr>\n",
              "      <th>2</th>\n",
              "      <td>1.207369</td>\n",
              "      <td>-0.777069</td>\n",
              "      <td>0.122174</td>\n",
              "      <td>0.617848</td>\n",
              "      <td>0</td>\n",
              "    </tr>\n",
              "    <tr>\n",
              "      <th>3</th>\n",
              "      <td>1.063355</td>\n",
              "      <td>1.295005</td>\n",
              "      <td>-1.254940</td>\n",
              "      <td>-1.143612</td>\n",
              "      <td>0</td>\n",
              "    </tr>\n",
              "    <tr>\n",
              "      <th>4</th>\n",
              "      <td>-0.036758</td>\n",
              "      <td>-1.086642</td>\n",
              "      <td>0.736462</td>\n",
              "      <td>0.096552</td>\n",
              "      <td>0</td>\n",
              "    </tr>\n",
              "  </tbody>\n",
              "</table>\n",
              "</div>"
            ],
            "text/plain": [
              "          0         1         2         3  4\n",
              "0  1.121397  1.149036 -0.975614  0.354432  0\n",
              "1  1.446538  1.064065 -0.894710 -0.128721  0\n",
              "2  1.207369 -0.777069  0.122174  0.617848  0\n",
              "3  1.063355  1.295005 -1.254940 -1.143612  0\n",
              "4 -0.036758 -1.086642  0.736462  0.096552  0"
            ]
          },
          "metadata": {
            "tags": []
          },
          "execution_count": 2
        }
      ]
    },
    {
      "cell_type": "code",
      "metadata": {
        "id": "-fHAGBarClF1"
      },
      "source": [
        "#Splitting\r\n",
        "train,test = np.split(df.sample(frac=1, random_state=1000),[int(0.7 * len(df))])"
      ],
      "execution_count": null,
      "outputs": []
    },
    {
      "cell_type": "code",
      "metadata": {
        "id": "8PGrRASDC54c"
      },
      "source": [
        "train=np.array(train)\r\n",
        "test=np.array(test)"
      ],
      "execution_count": null,
      "outputs": []
    },
    {
      "cell_type": "code",
      "metadata": {
        "id": "v2TEXIBkC66P"
      },
      "source": [
        "train_X=train[:,:4]\r\n",
        "train_y=train[:,4]\r\n",
        "test_X=test[:,:4]\r\n",
        "test_y=test[:,4]"
      ],
      "execution_count": null,
      "outputs": []
    },
    {
      "cell_type": "code",
      "metadata": {
        "id": "d7-Q-fJWC_Hr"
      },
      "source": [
        "np.random.seed(0)\r\n",
        "\r\n",
        "#initialising w \r\n",
        "w=np.random.randn(train_X.shape[1])  "
      ],
      "execution_count": null,
      "outputs": []
    },
    {
      "cell_type": "code",
      "metadata": {
        "id": "nPyF2gOrDHVx"
      },
      "source": [
        "n_iters=1000 # number of iterations\r\n",
        "lr=0.1 # learning rate"
      ],
      "execution_count": null,
      "outputs": []
    },
    {
      "cell_type": "code",
      "metadata": {
        "id": "Dlt3gL08DJ3E"
      },
      "source": [
        "#function to determine w and b\r\n",
        "def perceptron(train_X,train_y,w,lr):\r\n",
        "  error=[]\r\n",
        "  m=train_X.shape[0] #number of training instances\r\n",
        "  n=train_X.shape[1] # number of features in data set\r\n",
        "  for i in range(n_iters):\r\n",
        "    e=0\r\n",
        "    for j in range(m):\r\n",
        "      layer=np.dot(train_X[j,:],w)\r\n",
        "      output=layer\r\n",
        "      output=np.where(output>=0.5,1,0)\r\n",
        "      e+=(output-train_y[j])**2\r\n",
        "      if((output-train_y[j])==0): #Hebbian Learning Rule\r\n",
        "        continue\r\n",
        "      else:\r\n",
        "        for k in range(n):\r\n",
        "          w[k]+=lr*train_y[j]*train_X[j][k] #weight updation\r\n",
        "        #b=b+lr*train_y[j] #bias updation\r\n",
        "    error.append(e)\r\n",
        "  return w,error"
      ],
      "execution_count": null,
      "outputs": []
    },
    {
      "cell_type": "code",
      "metadata": {
        "colab": {
          "base_uri": "https://localhost:8080/"
        },
        "id": "GzmyITWzDLj2",
        "outputId": "7bb332fa-9c7d-41d8-bbab-54f28e5eb586"
      },
      "source": [
        "w,error=perceptron(train_X,train_y,w,lr) #to call perceptron function\r\n",
        "print(\"Weights are\",w)"
      ],
      "execution_count": null,
      "outputs": [
        {
          "output_type": "stream",
          "text": [
            "Weights are [-1.24853232 -1.52645274 -1.3736276  -0.07925988]\n"
          ],
          "name": "stdout"
        }
      ]
    },
    {
      "cell_type": "code",
      "metadata": {
        "id": "5eiErjVyDPVZ"
      },
      "source": [
        "#evaluation for training and validation set\r\n",
        "def evaluate(X,w):\r\n",
        "  layer=np.dot(X,w)\r\n",
        "  input=layer \r\n",
        "  output = np.where(input>=0.5,1,0)\r\n",
        "\r\n",
        "  return output"
      ],
      "execution_count": null,
      "outputs": []
    },
    {
      "cell_type": "code",
      "metadata": {
        "id": "-eOhgiYyDpX5"
      },
      "source": [
        "test_pred=evaluate(test_X,w)\r\n",
        "test_pred=np.where(test_pred>=0.5,1,0)"
      ],
      "execution_count": null,
      "outputs": []
    },
    {
      "cell_type": "code",
      "metadata": {
        "colab": {
          "base_uri": "https://localhost:8080/"
        },
        "id": "drbyF6i_Dt8q",
        "outputId": "62b95b30-b423-4c11-a170-610b76283a9f"
      },
      "source": [
        "cm=pd.crosstab(test_y,test_pred)\r\n",
        "tp=cm[0][0]\r\n",
        "fp=cm[0][1]\r\n",
        "fn=cm[1][0]\r\n",
        "tn=cm[1][1]\r\n",
        "print('Confusion matrix for test set is\\n',cm)"
      ],
      "execution_count": null,
      "outputs": [
        {
          "output_type": "stream",
          "text": [
            "Confusion matrix for test set is\n",
            " col_0    0    1\n",
            "row_0          \n",
            "0.0    223    5\n",
            "1.0      0  184\n"
          ],
          "name": "stdout"
        }
      ]
    },
    {
      "cell_type": "code",
      "metadata": {
        "colab": {
          "base_uri": "https://localhost:8080/",
          "height": 136
        },
        "id": "96lqhhoDDxU-",
        "outputId": "3b96c251-14b6-4ead-fa61-8eb8476de2fd"
      },
      "source": [
        "pd.crosstab(test_y,test_pred)"
      ],
      "execution_count": null,
      "outputs": [
        {
          "output_type": "execute_result",
          "data": {
            "text/html": [
              "<div>\n",
              "<style scoped>\n",
              "    .dataframe tbody tr th:only-of-type {\n",
              "        vertical-align: middle;\n",
              "    }\n",
              "\n",
              "    .dataframe tbody tr th {\n",
              "        vertical-align: top;\n",
              "    }\n",
              "\n",
              "    .dataframe thead th {\n",
              "        text-align: right;\n",
              "    }\n",
              "</style>\n",
              "<table border=\"1\" class=\"dataframe\">\n",
              "  <thead>\n",
              "    <tr style=\"text-align: right;\">\n",
              "      <th>col_0</th>\n",
              "      <th>0</th>\n",
              "      <th>1</th>\n",
              "    </tr>\n",
              "    <tr>\n",
              "      <th>row_0</th>\n",
              "      <th></th>\n",
              "      <th></th>\n",
              "    </tr>\n",
              "  </thead>\n",
              "  <tbody>\n",
              "    <tr>\n",
              "      <th>0.0</th>\n",
              "      <td>223</td>\n",
              "      <td>5</td>\n",
              "    </tr>\n",
              "    <tr>\n",
              "      <th>1.0</th>\n",
              "      <td>0</td>\n",
              "      <td>184</td>\n",
              "    </tr>\n",
              "  </tbody>\n",
              "</table>\n",
              "</div>"
            ],
            "text/plain": [
              "col_0    0    1\n",
              "row_0          \n",
              "0.0    223    5\n",
              "1.0      0  184"
            ]
          },
          "metadata": {
            "tags": []
          },
          "execution_count": 13
        }
      ]
    },
    {
      "cell_type": "code",
      "metadata": {
        "colab": {
          "base_uri": "https://localhost:8080/"
        },
        "id": "B50hz7zpECrE",
        "outputId": "74e96013-e03b-440f-f5d0-efec92143876"
      },
      "source": [
        "print('Accuracy is',(tp+tn)*100/len(test_y))"
      ],
      "execution_count": null,
      "outputs": [
        {
          "output_type": "stream",
          "text": [
            "Accuracy is 98.7864077669903\n"
          ],
          "name": "stdout"
        }
      ]
    },
    {
      "cell_type": "code",
      "metadata": {
        "colab": {
          "base_uri": "https://localhost:8080/"
        },
        "id": "rFfrluA1E6zl",
        "outputId": "8e19277e-ca87-4c08-eb72-26aac9ee5003"
      },
      "source": [
        "np.sum(test_pred == test_y )/len(test_y)"
      ],
      "execution_count": null,
      "outputs": [
        {
          "output_type": "execute_result",
          "data": {
            "text/plain": [
              "0.9878640776699029"
            ]
          },
          "metadata": {
            "tags": []
          },
          "execution_count": 15
        }
      ]
    },
    {
      "cell_type": "code",
      "metadata": {
        "id": "T7mA4uFqGzor"
      },
      "source": [
        ""
      ],
      "execution_count": null,
      "outputs": []
    }
  ]
}